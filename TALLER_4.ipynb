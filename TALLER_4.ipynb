{
  "nbformat": 4,
  "nbformat_minor": 0,
  "metadata": {
    "colab": {
      "provenance": [],
      "authorship_tag": "ABX9TyMBuC4KrKDhnqYHvcWn7dIP",
      "include_colab_link": true
    },
    "kernelspec": {
      "name": "python3",
      "display_name": "Python 3"
    },
    "language_info": {
      "name": "python"
    }
  },
  "cells": [
    {
      "cell_type": "markdown",
      "metadata": {
        "id": "view-in-github",
        "colab_type": "text"
      },
      "source": [
        "<a href=\"https://colab.research.google.com/github/YE1S0N/Taller_4_condicionales_000491649/blob/main/TALLER_4.ipynb\" target=\"_parent\"><img src=\"https://colab.research.google.com/assets/colab-badge.svg\" alt=\"Open In Colab\"/></a>"
      ]
    },
    {
      "cell_type": "code",
      "execution_count": 15,
      "metadata": {
        "id": "jrAw5FbnU4Os",
        "outputId": "035c2696-448c-4f22-ace6-acbbb8003ee2",
        "colab": {
          "base_uri": "https://localhost:8080/"
        }
      },
      "outputs": [
        {
          "output_type": "stream",
          "name": "stdout",
          "text": [
            "ingrese su calificacion:\n",
            "su calificacion fue:2\n",
            "Desaprobaste\n"
          ]
        }
      ],
      "source": [
        "##YEISON DE LEON 000491649\n",
        "#YEISON.DE@UPB.EDU.CO\n",
        "#calculadora de ecuaciones\n",
        "print(\"ingrese su calificacion:\")\n",
        "D = float(input(\"su calificacion fue:\"))\n",
        "if D > 3:\n",
        "  print(\"Aprobaste\")\n",
        "else:\n",
        "  print(\"Desaprobaste\")"
      ]
    },
    {
      "cell_type": "code",
      "source": [
        "#verificar si el numero es positivo o negativo\n",
        "print(\"ingrese un numero\")\n",
        "D = float(input(\"el numero es: \"))\n",
        "if D < 0:\n",
        "  print(\"elnumero es negativo \")\n",
        "else:\n",
        "  print(\"el numero es positivo \")"
      ],
      "metadata": {
        "id": "l85g5ZYfWS9Y",
        "outputId": "0d7f6679-9663-46ba-9794-8a4707e940a8",
        "colab": {
          "base_uri": "https://localhost:8080/"
        }
      },
      "execution_count": 16,
      "outputs": [
        {
          "output_type": "stream",
          "name": "stdout",
          "text": [
            "ingrese un numero\n",
            "el numero es: 2\n",
            "el numero es positivo \n"
          ]
        }
      ]
    },
    {
      "cell_type": "code",
      "source": [
        "#validacion de contraseña\n",
        "print(\"ingrese su contraseña\")\n",
        "D = input(\"su coontraseña es: \")\n",
        "C = \"python123\"\n",
        "if D==C:\n",
        "  print(\"contraseña valida\")\n",
        "else:\n",
        "  print(\"contraseña incorrecta\")"
      ],
      "metadata": {
        "id": "R7kX1LROZTPW",
        "outputId": "cd8ddd29-0cc9-4732-c574-e61bdc5f17d6",
        "colab": {
          "base_uri": "https://localhost:8080/"
        }
      },
      "execution_count": 17,
      "outputs": [
        {
          "output_type": "stream",
          "name": "stdout",
          "text": [
            "ingrese su contraseña\n",
            "su coontraseña es: yej\n",
            "contraseña incorrecta\n"
          ]
        }
      ]
    },
    {
      "cell_type": "code",
      "source": [
        "#determinar si un numero es par o impar\n",
        "numero = float(input(\"ingresa un numero: \"))\n",
        "if numero % 2 == 0:\n",
        "  print(\"el numero es par\")\n",
        "else : print(\"el numero es impar\")"
      ],
      "metadata": {
        "id": "FZqHg9q4aW8F",
        "outputId": "7da10b39-8519-4715-f8b0-b6a926587cb3",
        "colab": {
          "base_uri": "https://localhost:8080/"
        }
      },
      "execution_count": 14,
      "outputs": [
        {
          "output_type": "stream",
          "name": "stdout",
          "text": [
            "ingresa un numero: 2\n",
            "el numero es par\n"
          ]
        }
      ]
    },
    {
      "cell_type": "code",
      "source": [
        "#determinar el numero mayor\n",
        "a = input(\"ingrese un numero\")\n",
        "b = input(\"ingrese un numero\")\n",
        "c = input(\"ingrese un numero\")\n",
        "e = input(\"ingrese un numero\")\n",
        "f = input(\"ingrese un numero\")\n",
        "print(\"\")"
      ],
      "metadata": {
        "id": "OfEBr-mRbId2"
      },
      "execution_count": 13,
      "outputs": []
    },
    {
      "cell_type": "code",
      "source": [
        "Numero1 = float(input(\"ingresa un numero: \"))\n",
        "Numero2 = float(input(\"ingresa un numero: \"))\n",
        "Numero3 = float(input(\"ingresa un numero: \"))\n",
        "Numero4 = float(input(\"ingresa un numero: \"))\n",
        "Numero5 = float(input(\"ingresa un numero: \"))\n",
        "\n",
        "mayor = Numero1\n",
        "\n",
        "if Numero2 > mayor:\n",
        "    mayor = Numero2\n",
        "\n",
        "if Numero3 > mayor:\n",
        "    mayor = Numero3\n",
        "\n",
        "if Numero4 > mayor:\n",
        "    mayor = Numero4\n",
        "\n",
        "if Numero5 > mayor:\n",
        "    mayor = Numero5\n",
        "\n",
        "else :\n",
        "  print(\"El número mayor es:\",mayor)"
      ],
      "metadata": {
        "id": "GTOP9aObdQWL",
        "outputId": "b37d73dc-2f57-487a-bd6a-521b491c9374",
        "colab": {
          "base_uri": "https://localhost:8080/"
        }
      },
      "execution_count": 25,
      "outputs": [
        {
          "output_type": "stream",
          "name": "stdout",
          "text": [
            "ingresa un numero: 2\n",
            "ingresa un numero: 2\n",
            "ingresa un numero: 3\n",
            "ingresa un numero: 4\n",
            "ingresa un numero: 1\n",
            "El número mayor es: 4.0\n"
          ]
        }
      ]
    },
    {
      "cell_type": "code",
      "source": [
        "#categorizar edades\n",
        "Edad= int(input(\"Ingrese su Edad: \"))\n",
        "\n",
        "if Edad <= 12:\n",
        "    categoria = \"Niños\"\n",
        "elif Edad <= 19:\n",
        "    categoria = \"Adolescentes\"\n",
        "elif Edad <= 64:\n",
        "    categoria = \"Adultos\"\n",
        "else:\n",
        "    categoria = \"Adultos Mayores\"\n",
        "print(\"usted hace parte de los:\",categoria)"
      ],
      "metadata": {
        "id": "5rCJSh4eh7AE",
        "outputId": "b6b4c95c-9012-40ff-844e-b128999729f9",
        "colab": {
          "base_uri": "https://localhost:8080/"
        }
      },
      "execution_count": 35,
      "outputs": [
        {
          "output_type": "stream",
          "name": "stdout",
          "text": [
            "Ingrese su Edad: 77\n",
            "usted hace parte de los: Adultos Mayores\n"
          ]
        }
      ]
    },
    {
      "cell_type": "code",
      "source": [],
      "metadata": {
        "id": "rCz4RVD8iinA"
      },
      "execution_count": null,
      "outputs": []
    }
  ]
}