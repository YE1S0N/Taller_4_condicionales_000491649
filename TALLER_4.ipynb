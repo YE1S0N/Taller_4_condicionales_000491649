{
  "nbformat": 4,
  "nbformat_minor": 0,
  "metadata": {
    "colab": {
      "provenance": [],
      "authorship_tag": "ABX9TyNbS3zxDAIXbw9OFLVOZirn",
      "include_colab_link": true
    },
    "kernelspec": {
      "name": "python3",
      "display_name": "Python 3"
    },
    "language_info": {
      "name": "python"
    }
  },
  "cells": [
    {
      "cell_type": "markdown",
      "metadata": {
        "id": "view-in-github",
        "colab_type": "text"
      },
      "source": [
        "<a href=\"https://colab.research.google.com/github/YE1S0N/Taller_4_condicionales_000491649/blob/main/TALLER_4.ipynb\" target=\"_parent\"><img src=\"https://colab.research.google.com/assets/colab-badge.svg\" alt=\"Open In Colab\"/></a>"
      ]
    },
    {
      "cell_type": "markdown",
      "source": [
        "##YEISON DE LEON 000491649\n",
        "#YEISON.DE@UPB.EDU.CO"
      ],
      "metadata": {
        "id": "3uF6RfKykQwN"
      }
    },
    {
      "cell_type": "code",
      "execution_count": null,
      "metadata": {
        "id": "jrAw5FbnU4Os",
        "outputId": "2cd8a14a-820b-4a84-c860-7d830ea33160",
        "colab": {
          "base_uri": "https://localhost:8080/"
        }
      },
      "outputs": [
        {
          "output_type": "stream",
          "name": "stdout",
          "text": [
            "ingrese su calificacion:\n",
            "su calificacion fue:6\n",
            "Aprobaste\n"
          ]
        }
      ],
      "source": [
        "#calculadora de ecuaciones\n",
        "print(\"ingrese su calificacion:\")\n",
        "D = float(input(\"su calificacion fue:\"))\n",
        "\n",
        "if D >= 3 :\n",
        "  print(\"Aprobaste\")\n",
        "else:\n",
        "  print(\"Desaprobaste\")"
      ]
    },
    {
      "cell_type": "code",
      "source": [
        "#verificar si el numero es positivo o negativo\n",
        "print(\"ingrese un numero\")\n",
        "D = float(input(\"el numero es: \"))\n",
        "if D < 0:\n",
        "  print(\"elnumero es negativo \")\n",
        "else:\n",
        "  print(\"el numero es positivo \")"
      ],
      "metadata": {
        "id": "l85g5ZYfWS9Y",
        "outputId": "8dcecc90-a79a-48ea-f4d1-f17451fd66f0",
        "colab": {
          "base_uri": "https://localhost:8080/"
        }
      },
      "execution_count": null,
      "outputs": [
        {
          "output_type": "stream",
          "name": "stdout",
          "text": [
            "ingrese un numero\n",
            "el numero es: 8\n",
            "el numero es positivo \n"
          ]
        }
      ]
    },
    {
      "cell_type": "code",
      "source": [
        "#validacion de contraseña\n",
        "print(\"ingrese su contraseña\")\n",
        "D = input(\"su coontraseña es: \")\n",
        "C = \"contraseña\"\n",
        "if D==C:\n",
        "  print(\"contraseña valida\")\n",
        "else:\n",
        "  print(\"contraseña incorrecta\")"
      ],
      "metadata": {
        "id": "R7kX1LROZTPW",
        "outputId": "241ec0f1-c2e3-49e1-9c68-a947b469e9c3",
        "colab": {
          "base_uri": "https://localhost:8080/"
        }
      },
      "execution_count": null,
      "outputs": [
        {
          "output_type": "stream",
          "name": "stdout",
          "text": [
            "ingrese su contraseña\n",
            "su coontraseña es: contraseña\n",
            "contraseña valida\n"
          ]
        }
      ]
    },
    {
      "cell_type": "code",
      "source": [
        "#determinar si un numero es par o impar\n",
        "numero = float(input(\"ingresa un numero: \"))\n",
        "if numero % 2 == 0:\n",
        "  print(\"el numero es par\")\n",
        "else : print(\"el numero es impar\")"
      ],
      "metadata": {
        "id": "FZqHg9q4aW8F",
        "outputId": "7da10b39-8519-4715-f8b0-b6a926587cb3",
        "colab": {
          "base_uri": "https://localhost:8080/"
        }
      },
      "execution_count": null,
      "outputs": [
        {
          "output_type": "stream",
          "name": "stdout",
          "text": [
            "ingresa un numero: 2\n",
            "el numero es par\n"
          ]
        }
      ]
    },
    {
      "cell_type": "code",
      "source": [
        "#determinar el numero mayor\n",
        "a = input(\"ingrese un numero\")\n",
        "b = input(\"ingrese un numero\")\n",
        "c = input(\"ingrese un numero\")\n",
        "e = input(\"ingrese un numero\")\n",
        "f = input(\"ingrese un numero\")\n",
        "print(\"\")"
      ],
      "metadata": {
        "id": "OfEBr-mRbId2"
      },
      "execution_count": null,
      "outputs": []
    },
    {
      "cell_type": "code",
      "source": [
        "Numero1 = float(input(\"ingresa un numero: \"))\n",
        "Numero2 = float(input(\"ingresa un numero: \"))\n",
        "Numero3 = float(input(\"ingresa un numero: \"))\n",
        "Numero4 = float(input(\"ingresa un numero: \"))\n",
        "Numero5 = float(input(\"ingresa un numero: \"))\n",
        "\n",
        "mayor = Numero1\n",
        "\n",
        "if Numero2 > mayor:\n",
        "    mayor = Numero2\n",
        "\n",
        "if Numero3 > mayor:\n",
        "    mayor = Numero3\n",
        "\n",
        "if Numero4 > mayor:\n",
        "    mayor = Numero4\n",
        "\n",
        "if Numero5 > mayor:\n",
        "    mayor = Numero5\n",
        "\n",
        "else :\n",
        "  print(\"El número mayor es:\",mayor)"
      ],
      "metadata": {
        "id": "GTOP9aObdQWL",
        "outputId": "b37d73dc-2f57-487a-bd6a-521b491c9374",
        "colab": {
          "base_uri": "https://localhost:8080/"
        }
      },
      "execution_count": null,
      "outputs": [
        {
          "output_type": "stream",
          "name": "stdout",
          "text": [
            "ingresa un numero: 2\n",
            "ingresa un numero: 2\n",
            "ingresa un numero: 3\n",
            "ingresa un numero: 4\n",
            "ingresa un numero: 1\n",
            "El número mayor es: 4.0\n"
          ]
        }
      ]
    },
    {
      "cell_type": "code",
      "source": [
        "#categorizar edades\n",
        "Edad= int(input(\"Ingrese su Edad: \"))\n",
        "\n",
        "if Edad <= 12:\n",
        "    categoria = \"Niños\"\n",
        "elif Edad <= 19:\n",
        "    categoria = \"Adolescentes\"\n",
        "elif Edad <= 64:\n",
        "    categoria = \"Adultos\"\n",
        "else:\n",
        "    categoria = \"Adultos Mayores\"\n",
        "print(\"usted hace parte de los:\",categoria)"
      ],
      "metadata": {
        "id": "5rCJSh4eh7AE",
        "outputId": "b6b4c95c-9012-40ff-844e-b128999729f9",
        "colab": {
          "base_uri": "https://localhost:8080/"
        }
      },
      "execution_count": null,
      "outputs": [
        {
          "output_type": "stream",
          "name": "stdout",
          "text": [
            "Ingrese su Edad: 77\n",
            "usted hace parte de los: Adultos Mayores\n"
          ]
        }
      ]
    },
    {
      "cell_type": "code",
      "source": [
        "num = int(input(\"ingrese los numeros: \"))\n",
        "i = 1\n",
        "suma = 0\n",
        "while  i <= num:\n",
        " if i % 2 == 0:\n",
        "  suma = suma + i\n",
        "  i = 1 + i\n",
        " print(\"la suma de los numeros pares es, \",suma)"
      ],
      "metadata": {
        "id": "rCz4RVD8iinA",
        "colab": {
          "base_uri": "https://localhost:8080/"
        },
        "outputId": "71ed4824-799a-4fad-a71e-5565bf912014"
      },
      "execution_count": 3,
      "outputs": [
        {
          "name": "stdout",
          "output_type": "stream",
          "text": [
            "ingrese los numeros: 0\n"
          ]
        }
      ]
    },
    {
      "cell_type": "code",
      "source": [
        "num = int(input(\"ingrese un numero:\"))\n",
        "i = 0\n",
        "while i <= 10:\n",
        " i = i + 1\n",
        " print(num, \" x \", i, \" = \", (num*i))\n"
      ],
      "metadata": {
        "colab": {
          "base_uri": "https://localhost:8080/"
        },
        "id": "MTbXAffLUa6F",
        "outputId": "a19a0d4b-b23b-4144-f93b-1fcd4b7f2d6a"
      },
      "execution_count": 21,
      "outputs": [
        {
          "output_type": "stream",
          "name": "stdout",
          "text": [
            "ingrese un numero:2\n",
            "2  x  1  =  2\n",
            "2  x  2  =  4\n",
            "2  x  3  =  6\n",
            "2  x  4  =  8\n",
            "2  x  5  =  10\n",
            "2  x  6  =  12\n",
            "2  x  7  =  14\n",
            "2  x  8  =  16\n",
            "2  x  9  =  18\n",
            "2  x  10  =  20\n",
            "2  x  11  =  22\n"
          ]
        }
      ]
    },
    {
      "cell_type": "code",
      "source": [
        "D = int(input(\"ingrese un numero base\"))\n",
        "F = int(input(\"ingrese el numero exponente\"))\n",
        "i = 1\n",
        "if F == 0:\n",
        "  print(1)\n",
        "else:\n",
        " i = 1\n",
        "resultado = D\n",
        "while i < F:\n",
        " resultado = resultado * D\n",
        " i = i + 1\n",
        " print(resultado)\n",
        "elif:\n",
        "  i < 0\n"
      ],
      "metadata": {
        "colab": {
          "base_uri": "https://localhost:8080/"
        },
        "id": "7g3Ex4FmXBZ7",
        "outputId": "39be6873-9fdf-44b8-ca50-4f6133a2f8e0"
      },
      "execution_count": 52,
      "outputs": [
        {
          "name": "stdout",
          "output_type": "stream",
          "text": [
            "ingrese un numero base2\n",
            "ingrese el numero exponente-3\n"
          ]
        }
      ]
    },
    {
      "cell_type": "code",
      "source": [],
      "metadata": {
        "id": "9dcNtlRycSBN"
      },
      "execution_count": 52,
      "outputs": []
    },
    {
      "cell_type": "code",
      "source": [],
      "metadata": {
        "id": "cF783pRMhdBP"
      },
      "execution_count": null,
      "outputs": []
    }
  ]
}